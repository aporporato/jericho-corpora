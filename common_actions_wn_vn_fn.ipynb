{
  "nbformat": 4,
  "nbformat_minor": 0,
  "metadata": {
    "colab": {
      "name": "common_actions_wn_vn_fn.ipynb",
      "provenance": [],
      "collapsed_sections": []
    },
    "kernelspec": {
      "name": "python3",
      "display_name": "Python 3"
    },
    "language_info": {
      "name": "python"
    }
  },
  "cells": [
    {
      "cell_type": "code",
      "execution_count": 1,
      "metadata": {
        "colab": {
          "base_uri": "https://localhost:8080/"
        },
        "id": "JcNGFkI7YkMZ",
        "outputId": "b7fcd28f-15bf-4724-c67c-d3b8fe3fa6b0"
      },
      "outputs": [
        {
          "output_type": "stream",
          "name": "stdout",
          "text": [
            "Requirement already satisfied: nltk==3.6.7 in /usr/local/lib/python3.7/dist-packages (3.6.7)\n",
            "Requirement already satisfied: joblib in /usr/local/lib/python3.7/dist-packages (from nltk==3.6.7) (1.1.0)\n",
            "Requirement already satisfied: regex>=2021.8.3 in /usr/local/lib/python3.7/dist-packages (from nltk==3.6.7) (2022.1.18)\n",
            "Requirement already satisfied: tqdm in /usr/local/lib/python3.7/dist-packages (from nltk==3.6.7) (4.62.3)\n",
            "Requirement already satisfied: click in /usr/local/lib/python3.7/dist-packages (from nltk==3.6.7) (7.1.2)\n",
            "\u001b[33mWARNING: Running pip as the 'root' user can result in broken permissions and conflicting behaviour with the system package manager. It is recommended to use a virtual environment instead: https://pip.pypa.io/warnings/venv\u001b[0m\n"
          ]
        }
      ],
      "source": [
        "!pip install nltk==3.6.7"
      ]
    },
    {
      "cell_type": "code",
      "source": [
        "\n",
        "import nltk\n",
        "from nltk.corpus import verbnet\n",
        "from nltk.corpus import wordnet as wn\n",
        "from nltk.corpus import wordnet31 as wn31\n",
        "from pprint import pprint\n",
        "from operator import itemgetter\n",
        "from nltk.corpus import framenet as fn\n",
        "from nltk.corpus.reader.framenet import PrettyList\n",
        "nltk.download('verbnet')\n",
        "nltk.download('wordnet')\n",
        "nltk.download('wordnet31')\n",
        "nltk.download('framenet_v17')\n",
        "nltk.download('omw-1.4');"
      ],
      "metadata": {
        "id": "4MwpaoknCDU6",
        "colab": {
          "base_uri": "https://localhost:8080/"
        },
        "outputId": "1779dbd5-6e02-4ee9-a963-e241e75c81db"
      },
      "execution_count": 2,
      "outputs": [
        {
          "output_type": "stream",
          "name": "stderr",
          "text": [
            "[nltk_data] Downloading package verbnet to /root/nltk_data...\n",
            "[nltk_data]   Package verbnet is already up-to-date!\n",
            "[nltk_data] Downloading package wordnet to /root/nltk_data...\n",
            "[nltk_data]   Package wordnet is already up-to-date!\n",
            "[nltk_data] Downloading package wordnet31 to /root/nltk_data...\n",
            "[nltk_data]   Package wordnet31 is already up-to-date!\n",
            "[nltk_data] Downloading package framenet_v17 to /root/nltk_data...\n",
            "[nltk_data]   Package framenet_v17 is already up-to-date!\n",
            "[nltk_data] Downloading package omw-1.4 to /root/nltk_data...\n",
            "[nltk_data]   Package omw-1.4 is already up-to-date!\n"
          ]
        }
      ]
    },
    {
      "cell_type": "code",
      "source": [
        "hyper = lambda s: s.hypernyms()\n",
        "abstr = wn.synset('abstraction.n.06')"
      ],
      "metadata": {
        "id": "Jyz76k2ypTmD"
      },
      "execution_count": 3,
      "outputs": []
    },
    {
      "cell_type": "code",
      "source": [
        "t = \"ask\""
      ],
      "metadata": {
        "id": "gu4HYDDIpWq8"
      },
      "execution_count": 4,
      "outputs": []
    },
    {
      "cell_type": "code",
      "source": [
        "l1 = [(str(synset), synset.offset(), [l.key() for l in synset.lemmas()], synset.definition(), synset.examples()[0] if len(synset.examples()) > 0 else \"\", abstr in list(synset.closure(hyper))) for synset in wn.synsets(t)]\n",
        "print('\\n'.join(map(str, l1)))\n",
        "print(\"###\")\n",
        "v = [(verb, verbnet.wordnetids(verb)) for verb in verbnet.classids(t)]\n",
        "print('\\n'.join(map(str, v)))"
      ],
      "metadata": {
        "colab": {
          "base_uri": "https://localhost:8080/"
        },
        "id": "Rpmhrib02-70",
        "outputId": "9fa82267-723b-4209-9542-f86dd55618bc"
      },
      "execution_count": 5,
      "outputs": [
        {
          "output_type": "stream",
          "name": "stdout",
          "text": [
            "(\"Synset('ask.v.01')\", 784342, ['ask%2:32:00::', 'inquire%2:32:01::', 'enquire%2:32:00::'], 'inquire about', 'I asked about their special today', False)\n",
            "(\"Synset('ask.v.02')\", 752493, ['ask%2:32:01::'], 'make a request or demand for something to somebody', 'She asked him for a loan', False)\n",
            "(\"Synset('ask.v.03')\", 784727, ['ask%2:32:02::'], 'direct or put; seek an answer to', 'ask a question', False)\n",
            "(\"Synset('ask.v.04')\", 755745, ['ask%2:32:05::', 'require%2:32:01::', 'expect%2:32:00::'], 'consider obligatory; request and expect', 'We require our secretary to be on time', False)\n",
            "(\"Synset('ask.v.05')\", 897746, ['ask%2:32:04::'], 'address a question to and expect an answer from', 'Ask your teacher about trigonometry', False)\n",
            "(\"Synset('necessitate.v.01')\", 2627934, ['necessitate%2:42:00::', 'ask%2:42:00::', 'postulate%2:42:00::', 'need%2:42:00::', 'require%2:42:00::', 'take%2:42:00::', 'involve%2:42:07::', 'call_for%2:42:00::', 'demand%2:42:00::'], 'require as useful, just, or proper', 'It takes nerve to do what she did', False)\n",
            "(\"Synset('ask.v.07')\", 1068565, ['ask%2:32:09::'], 'require or ask for as a price or condition', 'He is asking $200 for the table', False)\n",
            "###\n",
            "('inquire-37.1.2', [])\n",
            "('order-60-1', [])\n",
            "('urge-58', [])\n"
          ]
        }
      ]
    },
    {
      "cell_type": "code",
      "source": [
        "for w in ['ask%2:32:00::', 'inquire%2:32:01::', 'enquire%2:32:00::']:\n",
        "  print(verbnet.classids(wordnetid=w[:-2]))\n",
        "print()\n",
        "\n",
        "for f in sorted(fn.frames_by_lemma(r'(?i)' + t + \".v\"), key=itemgetter('ID')):\n",
        "  print(f)\n",
        "  print()"
      ],
      "metadata": {
        "colab": {
          "base_uri": "https://localhost:8080/"
        },
        "id": "GBAYNBMatU0r",
        "outputId": "cce0ed37-3082-40c2-dc08-400491c6ffe5"
      },
      "execution_count": 7,
      "outputs": [
        {
          "output_type": "stream",
          "name": "stdout",
          "text": [
            "[]\n",
            "[]\n",
            "[]\n",
            "\n",
            "frame (40): Questioning\n",
            "\n",
            "[URL] https://framenet2.icsi.berkeley.edu/fnReports/data/frame/Questioning.xml\n",
            "\n",
            "[definition]\n",
            "  The words in this frame have to do with a Speaker asking an\n",
            "  Addressee a question which calls for a reply (as opposed to\n",
            "  making a request which calls for an action on the part of the\n",
            "  Addressee).  '' 'We asked Ruby what kind of food they ate.'\n",
            "  'Yeats was able to interrogate the spirit world about his\n",
            "  relationship with Maude.'\n",
            "\n",
            "[semTypes] 0 semantic types\n",
            "\n",
            "[frameRelations] 3 frame relations\n",
            "  <Parent=Communication -- Using -> Child=Questioning>\n",
            "  <Parent=Questioning -- Using -> Child=Court_examination>\n",
            "  <Source=Request -- ReFraming_Mapping -> Target=Questioning>\n",
            "\n",
            "[lexUnit] 12 lexical units\n",
            "  ask.v (8421), grill.v (627), inquire.v (628), inquiry.n (629),\n",
            "  interrogate.v (630), interrogation.n (631), query.n (632),\n",
            "  query.v (633), question.n (634), question.v (635), questioning.n\n",
            "  (636), quiz.v (637)\n",
            "\n",
            "\n",
            "[FE] 9 frame elements\n",
            "            Core: Addressee (168), Message (169), Speaker (167), Topic (170)\n",
            "      Peripheral: Manner (1483), Medium (171), Time (6310)\n",
            "  Extra-Thematic: Internal_cause (1525), Iterations (15712)\n",
            "\n",
            "[FEcoreSets] 1 frame element core sets\n",
            "  Topic, Message\n",
            "\n",
            "\n",
            "frame (41): Request\n",
            "\n",
            "[URL] https://framenet2.icsi.berkeley.edu/fnReports/data/frame/Request.xml\n",
            "\n",
            "[definition]\n",
            "  In this frame a Speaker asks an Addressee for something, or to\n",
            "  carry out some action.  'The customer demanded a refund.' 'I\n",
            "  begged my parents to let me stay up late.'\n",
            "\n",
            "[semTypes] 0 semantic types\n",
            "\n",
            "[frameRelations] 5 frame relations\n",
            "  <Parent=Request -- Inheritance -> Child=Request_entity>\n",
            "  <Parent=Communication -- Using -> Child=Request>\n",
            "  <Source=Request -- ReFraming_Mapping -> Target=Attempt_suasion>\n",
            "  <Source=Request -- ReFraming_Mapping -> Target=Questioning>\n",
            "  <Source=Request -- ReFraming_Mapping -> Target=Telling>\n",
            "\n",
            "[lexUnit] 26 lexical units\n",
            "  appeal.n (638), ask.v (639), beg.v (640), beseech.v (641), call.n\n",
            "  (14693), call.v (10219), command.n (642), command.v (643),\n",
            "  demand.n (644), demand.v (645), entreat.v (646), entreaty.n\n",
            "  (647), implore.v (648), instruct.v (17184), invitation.n (17288),\n",
            "  invite.v (11045), order.n (649), order.v (650), petition.n (651),\n",
            "  plea.n (652), plead.v (653), request.n (654), request.v (655),\n",
            "  summon.v (657), tell.v (658), urge.v (659)\n",
            "\n",
            "\n",
            "[FE] 12 frame elements\n",
            "            Core: Addressee (173), Medium (176), Message (174), Speaker (172)\n",
            "      Peripheral: Manner (1491), Means (1492), Time (8825)\n",
            "  Extra-Thematic: Beneficiary (11973), Containing_event (13236), Depictive (13260), Iterations (13239), Topic (175)\n",
            "\n",
            "[FEcoreSets] 1 frame element core sets\n",
            "  Speaker, Medium\n",
            "\n",
            "\n",
            "frame (652): Eclipse\n",
            "\n",
            "[URL] https://framenet2.icsi.berkeley.edu/fnReports/data/frame/Eclipse.xml\n",
            "\n",
            "[definition]\n",
            "  An Obstruction blocks an Eclipsed entity partially or completely\n",
            "  from view. The positions of the Obstruction and the Eclipsed\n",
            "  entity are often reported relative to a Vantage_point.  'A small\n",
            "  green bulb concealed behind the panel flashed on momentarily .'\n",
            "\n",
            "[semTypes] 1 semantic types\n",
            "  Visual_modality(94)\n",
            "\n",
            "[frameRelations] 2 frame relations\n",
            "  <Parent=Perception_experience -- Using -> Child=Eclipse>\n",
            "  <Causative=Hiding_objects -- Causative_of -> Inchoative/state=Eclipse>\n",
            "\n",
            "[lexUnit] 32 lexical units\n",
            "  becloud.v (8691), beclouded.a (8693), befog.v (8692), befogged.a\n",
            "  (8694), block.v (8545), blot out.v (8542), cloak.v (8554),\n",
            "  cloaked.a (8557), conceal.v (8563), concealed.a (8564), cover.v\n",
            "  (8537), covered.a (8550), eclipse.n (8559), eclipse.v (8535),\n",
            "  enshroud.v (8713), enshrouded.a (8714), hidden.a (8541), hide.v\n",
            "  (8534), mask.v (8536), masked.a (8548), obscure.v (8538),\n",
            "  obscured.a (8543), obstruct.v (8565), occlude.v (8551),\n",
            "  occlusion.n (8560), occultation.n (8561), screen.v (8539),\n",
            "  screened.a (8547), shroud.v (8555), shrouded.a (8556), veil.v\n",
            "  (8540), veiled.a (8549)\n",
            "\n",
            "\n",
            "[FE] 5 frame elements\n",
            "            Core: Eclipsed (4362), Obstruction (4361)\n",
            "      Peripheral: Degree (4364)\n",
            "  Extra-Thematic: Subregion (4365), Vantage_point (4363)\n",
            "\n",
            "[FEcoreSets] 0 frame element core sets\n",
            "  \n",
            "\n",
            "\n",
            "frame (711): Judgment_direct_address\n",
            "\n",
            "[URL] https://framenet2.icsi.berkeley.edu/fnReports/data/frame/Judgment_direct_address.xml\n",
            "\n",
            "[definition]\n",
            "  In this frame, a Communicator judges the Addressee and then\n",
            "  communicates that appraisal directly to the Addressee. The\n",
            "  judgment is given for a particular Reason or about a particular\n",
            "  Topic.  'The principal rebuked the student for cheating on the\n",
            "  exam.'\n",
            "\n",
            "[semTypes] 0 semantic types\n",
            "\n",
            "[frameRelations] 3 frame relations\n",
            "  <Parent=Judgment_communication -- Inheritance -> Child=Judgment_direct_address>\n",
            "  <Source=Judgment_communication -- ReFraming_Mapping -> Target=Judgment_direct_address>\n",
            "  <Source=Judgment_direct_address -- ReFraming_Mapping -> Target=Judgment_communication>\n",
            "\n",
            "[lexUnit] 32 lexical units\n",
            "  admonish.v (8960), admonishment.n (8961), admonition.n (8962),\n",
            "  berate.v (8959), castigation.n (8958), castigatory.a (8965),\n",
            "  chastise.v (8954), chastisement.n (8955), chide.v (8953),\n",
            "  compliment.n (8951), compliment.v (8952), congratulate.v (17267),\n",
            "  give shit.v (18485), harangue.v (8967), jeer.n (8950), jeer.v\n",
            "  (8949), rebuke.n (8948), rebuke.v (8947), reprimand.n (8963),\n",
            "  reprimand.v (8964), reproach.v (8966), reproof.n (8969),\n",
            "  reprove.v (8968), scold.v (8925), take to task.v (10553),\n",
            "  talking-to.n (18484), tell off.v (10554), telling off.n (10570),\n",
            "  thank.v (8945), thanks.n (8946), tongue-lashing.n (13042),\n",
            "  upbraid.v (8944)\n",
            "\n",
            "\n",
            "[FE] 14 frame elements\n",
            "            Core: Addressee (4673), Communicator (4671), Expressor (6081), Medium (4677), Reason (4675), Topic (4674)\n",
            "      Peripheral: Degree (4679), Grounds (4681), Manner (4682), Means (4683), Place (6078), Time (6079)\n",
            "  Extra-Thematic: Depictive (4680), Role (6080)\n",
            "\n",
            "[FEcoreSets] 2 frame element core sets\n",
            "  Reason, Topic\n",
            "  Expressor, Medium, Communicator\n",
            "\n",
            "\n",
            "frame (1673): Hiding_objects\n",
            "\n",
            "[URL] https://framenet2.icsi.berkeley.edu/fnReports/data/frame/Hiding_objects.xml\n",
            "\n",
            "[definition]\n",
            "  An Agent causes a Hidden_object to become perceptually\n",
            "  inaccessible to potential perceivers by placing it in a\n",
            "  Hiding_place or putting in place an Obstruction that screens the\n",
            "  object.  'Therefore, as I passed the school, I hid the gun and\n",
            "  holster in the mailbox'  'Gruenwald hid the money at a local\n",
            "  garbage dump then retrieved it the following morning.'  'In later\n",
            "  books Harry often tries to hide his scar with his hair. '\n",
            "\n",
            "[semTypes] 0 semantic types\n",
            "\n",
            "[frameRelations] 2 frame relations\n",
            "  <Parent=Intentionally_affect -- Inheritance -> Child=Hiding_objects>\n",
            "  <Causative=Hiding_objects -- Causative_of -> Inchoative/state=Eclipse>\n",
            "\n",
            "[lexUnit] 7 lexical units\n",
            "  block.v (17563), camouflage.v (15241), conceal.v (13037), cover.v\n",
            "  (17564), hide.v (13036), mask.v (13038), shroud.v (13039)\n",
            "\n",
            "\n",
            "[FE] 12 frame elements\n",
            "            Core: Agent (9540), Hidden_object (9536), Hiding_place (9541)\n",
            "      Peripheral: Degree (9538), Manner (9673), Means (9671), Obstruction (9535), Place (9542), Purpose (9672), Time (9543)\n",
            "  Extra-Thematic: Explanation (9544), Potential_observer (9537)\n",
            "\n",
            "[FEcoreSets] 0 frame element core sets\n",
            "  \n",
            "\n",
            "\n"
          ]
        }
      ]
    }
  ]
}